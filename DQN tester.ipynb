{
 "cells": [
  {
   "cell_type": "code",
   "execution_count": 1,
   "metadata": {},
   "outputs": [],
   "source": [
    "import os\n",
    "import numpy as np\n",
    "from Env.DC_gym import DiscreteGymDC\n",
    "from Nets.DQN import DQN\n",
    "from Utils.memory import Memory\n",
    "import gym\n",
    "import tensorflow as tf\n",
    "import matplotlib.pyplot as plt\n",
    "\n",
    "physical_devices = tf.config.list_physical_devices('GPU') \n",
    "tf.config.experimental.set_memory_growth(physical_devices[0], True)"
   ]
  },
  {
   "cell_type": "code",
   "execution_count": 2,
   "metadata": {},
   "outputs": [],
   "source": [
    "env = gym.make('CartPole-v0')\n",
    "env.reset()\n",
    "n_actions = env.action_space.n"
   ]
  },
  {
   "cell_type": "code",
   "execution_count": 15,
   "metadata": {},
   "outputs": [],
   "source": [
    "\"\"\"PARAM\"\"\"\n",
    "total_episodes = 1000\n",
    "target_updates = 200\n",
    "mem_length = 3000\n",
    "gamma = 0.95\n",
    "batch_size = 32\n",
    "\n",
    "layer_size = 32\n",
    "depth = 3"
   ]
  },
  {
   "cell_type": "code",
   "execution_count": 16,
   "metadata": {},
   "outputs": [],
   "source": [
    "def eps_greedy(current_episode, total_episodes, start_probability=0.99, end_probability=0.01):\n",
    "    epsilon = start_probability + (end_probability-start_probability)*current_episode/total_episodes\n",
    "    random_number = np.random.sample(1)\n",
    "    if epsilon > random_number: # exploit\n",
    "        return True\n",
    "    else: # explore\n",
    "        return False"
   ]
  },
  {
   "cell_type": "code",
   "execution_count": 27,
   "metadata": {},
   "outputs": [],
   "source": [
    "\"\"\"\n",
    "# later can turn all of this into a DQN class\n",
    "env = DiscreteGymDC(os.path.join(os.getcwd(), \"Env\\Flowsheet2_PR.fsd\"), n_discretisations = 3, shuffle=True)\n",
    "DQN_model = DQN(env.n_actions, env.State.state.shape).model\n",
    "target_model = DQN(env.n_actions, env.State.state.shape).model\n",
    "\"\"\"\n",
    "tf.keras.backend.set_floatx('float64')\n",
    "DQN_model = DQN(n_actions, env.observation_space.shape, layer_size=layer_size, depth = depth).model\n",
    "#DQN_model = DQN(n_actions, env.observation_space.shape, schedule_lr=True, decay_steps=total_episodes/10).model\n",
    "targetDQN_model = DQN(n_actions, env.observation_space.shape, layer_size=layer_size, depth = depth).model\n",
    "memory = Memory(max_size=mem_length)"
   ]
  },
  {
   "cell_type": "code",
   "execution_count": 28,
   "metadata": {},
   "outputs": [],
   "source": [
    "#tf.keras.utils.plot_model(DQN_model, show_shapes=True)\n",
    "None"
   ]
  },
  {
   "cell_type": "markdown",
   "metadata": {},
   "source": [
    "# Populate memory"
   ]
  },
  {
   "cell_type": "code",
   "execution_count": 29,
   "metadata": {},
   "outputs": [],
   "source": [
    "# first populate memory with random experience\n",
    "for i in range(mem_length):\n",
    "    state = env.reset()\n",
    "    done = False\n",
    "    while not done:\n",
    "        action = env.action_space.sample()\n",
    "        next_state, reward, done, info = env.step(action)\n",
    "        memory.add([state, action, reward, next_state, 1 - done])\n",
    "        state = next_state"
   ]
  },
  {
   "cell_type": "markdown",
   "metadata": {},
   "source": [
    "# Now learn"
   ]
  },
  {
   "cell_type": "code",
   "execution_count": 30,
   "metadata": {},
   "outputs": [
    {
     "name": "stdout",
     "output_type": "stream",
     "text": [
      "Average reward of last 200 episodes: 9.0\n",
      "episode 0/1000\n",
      "Average reward of last 200 episodes: 10.06\n",
      "episode 200/1000\n",
      "Average reward of last 200 episodes: 12.625\n",
      "episode 400/1000\n",
      "Average reward of last 200 episodes: 17.45\n",
      "episode 600/1000\n",
      "Average reward of last 200 episodes: 19.66\n",
      "episode 800/1000\n"
     ]
    }
   ],
   "source": [
    "history = []\n",
    "for i in range(total_episodes):\n",
    "    state = env.reset()\n",
    "    done = False\n",
    "    k = 0\n",
    "    total_reward = 0\n",
    "    while not done:\n",
    "        k += 1\n",
    "        if eps_greedy(i, total_episodes*4/5) is True:\n",
    "            action = np.argmax(DQN_model.predict(state[np.newaxis, :]))\n",
    "        else:\n",
    "            action = env.action_space.sample()\n",
    "        \n",
    "        # now take action\n",
    "        next_state, reward, done, info = env.step(action)\n",
    "        total_reward += reward\n",
    "        \n",
    "        memory.add((state, action, reward, next_state, 1 - done))\n",
    "        batch = memory.sample(batch_size)\n",
    "        state_batch = np.array([each[0] for each in batch])\n",
    "        action_batch = np.array([each[1] for each in batch])\n",
    "        reward_batch = np.array([each[2] for each in batch])\n",
    "        next_state_batch = np.array([each[3] for each in batch])\n",
    "        done_batch = np.array([each[4] for each in batch])\n",
    "        \n",
    "        next_action = np.argmax(DQN_model.predict(next_state_batch), axis=1)\n",
    "        y = DQN_model.predict(state_batch) # dummy values for actions that aren't taken\n",
    "        y[np.arange(batch_size), action_batch] = reward_batch + done*gamma*targetDQN_model.predict(next_state_batch)[np.arange(batch_size), next_action]\n",
    "        \n",
    "        DQN_model.train_on_batch(x = state_batch, y=y)\n",
    "  \n",
    "    history.append(total_reward)         \n",
    "            \n",
    "    if i % target_updates == 0:\n",
    "        targetDQN_model.set_weights(DQN_model.get_weights())\n",
    "        print(f\"Average reward of last {target_updates} episodes: {np.mean(history[-target_updates:])}\")\n",
    "        print(f\"episode {i}/{total_episodes}\")"
   ]
  },
  {
   "cell_type": "code",
   "execution_count": 31,
   "metadata": {},
   "outputs": [],
   "source": [
    "def running_mean(x, N=100):\n",
    "    cumsum = np.cumsum(np.insert(x, 0, 0))\n",
    "    return (cumsum[N:] - cumsum[:-N]) / N"
   ]
  },
  {
   "cell_type": "code",
   "execution_count": 32,
   "metadata": {
    "scrolled": false
   },
   "outputs": [
    {
     "data": {
      "text/plain": [
       "[<matplotlib.lines.Line2D at 0x290bb081bc8>]"
      ]
     },
     "execution_count": 32,
     "metadata": {},
     "output_type": "execute_result"
    },
    {
     "data": {
      "image/png": "[encoded data removed]",
      "text/plain": [
       "<Figure size 432x288 with 1 Axes>"
      ]
     },
     "metadata": {
      "needs_background": "light"
     },
     "output_type": "display_data"
    }
   ],
   "source": [
    "plt.plot(history)\n",
    "plt.plot(running_mean(history))"
   ]
  },
  {
   "cell_type": "code",
   "execution_count": 33,
   "metadata": {},
   "outputs": [
    {
     "data": {
      "text/plain": [
       "9.1"
      ]
     },
     "execution_count": 33,
     "metadata": {},
     "output_type": "execute_result"
    }
   ],
   "source": [
    "test_hist = []\n",
    "for _ in range(10):\n",
    "    total_reward = 0\n",
    "    done = False\n",
    "    state = env.reset()\n",
    "    while not done:\n",
    "        env.render()\n",
    "        action = np.argmax(DQN_model.predict(state[np.newaxis, :]))\n",
    "        state, reward, done, info = env.step(action)\n",
    "        total_reward += reward\n",
    "    test_hist.append(total_reward)\n",
    "env.close()\n",
    "np.mean(test_hist)"
   ]
  },
  {
   "cell_type": "code",
   "execution_count": null,
   "metadata": {},
   "outputs": [],
   "source": []
  }
 ],
 "metadata": {
  "kernelspec": {
   "display_name": "Python 3",
   "language": "python",
   "name": "python3"
  },
  "language_info": {
   "codemirror_mode": {
    "name": "ipython",
    "version": 3
   },
   "file_extension": ".py",
   "mimetype": "text/x-python",
   "name": "python",
   "nbconvert_exporter": "python",
   "pygments_lexer": "ipython3",
   "version": "3.7.7"
  }
 },
 "nbformat": 4,
 "nbformat_minor": 4
}
