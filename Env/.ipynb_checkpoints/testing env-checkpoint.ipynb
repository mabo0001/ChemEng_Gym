{
 "cells": [
  {
   "cell_type": "code",
   "execution_count": 26,
   "metadata": {},
   "outputs": [],
   "source": [
    "import numpy as np\n",
    "import os\n",
    "from DC_gym import DiscreteGymDC"
   ]
  },
  {
   "cell_type": "markdown",
   "metadata": {},
   "source": [
    "# Test 1"
   ]
  },
  {
   "cell_type": "code",
   "execution_count": 12,
   "metadata": {},
   "outputs": [
    {
     "name": "stdout",
     "output_type": "stream",
     "text": [
      "(10.95395692206818, 20.53782155441848, 7.913734621811337)\n",
      "(10.95395690925863, 20.53782158817127, 7.9137346008680955)\n"
     ]
    }
   ],
   "source": [
    "testclass = DiscreteGymDC(os.path.join(os.getcwd(),\"Flowsheet1.fsd\"))\n",
    "TAC, tops_flow, bottoms_flow, condenser_duty, reboiler_duty = testclass.step(1)\n",
    "TAC2, tops_flow2, bottoms_flow2, condenser_duty2, reboiler_duty2 = testclass.step(120)\n",
    "print(tops_flow)\n",
    "print(tops_flow2)"
   ]
  },
  {
   "cell_type": "markdown",
   "metadata": {},
   "source": [
    "# Test 2"
   ]
  },
  {
   "cell_type": "code",
   "execution_count": 13,
   "metadata": {},
   "outputs": [
    {
     "name": "stdout",
     "output_type": "stream",
     "text": [
      "(10.95395692206818, 20.53782155441848, 7.913734621811337)\n",
      "(31.400677236306112, 173.17037557146276, 4.000523539440289)\n"
     ]
    }
   ],
   "source": [
    "testclass = DiscreteGymDC(os.path.join(os.getcwd(),\"Flowsheet1.fsd\"))\n",
    "TAC, tops_flow, bottoms_flow, condenser_duty, reboiler_duty = testclass.step(1)\n",
    "testclass = DiscreteGymDC(os.path.join(os.getcwd(),\"Flowsheet1.fsd\"))\n",
    "TAC2, tops_flow2, bottoms_flow2, condenser_duty2, reboiler_duty2 = testclass.step(120)\n",
    "print(tops_flow)\n",
    "print(tops_flow2)"
   ]
  },
  {
   "cell_type": "markdown",
   "metadata": {},
   "source": [
    "# Test 3\n",
    " - this looks promising"
   ]
  },
  {
   "cell_type": "code",
   "execution_count": 41,
   "metadata": {},
   "outputs": [],
   "source": [
    "import comtypes.client\n",
    "import comtypes.gen\n",
    "from comtypes import COMError\n",
    "from comtypes.automation import VARIANT\n",
    "import array\n",
    "from multiprocessing import Process\n",
    "\n",
    "# tell comtypes to load type libs\n",
    "cofeTlb = ('{0D1006C7-6086-4838-89FC-FBDCC0E98780}', 1, 0)  # COFE type lib\n",
    "cofeTypes = comtypes.client.GetModule(cofeTlb)\n",
    "coTlb = ('{4A5E2E81-C093-11D4-9F1B-0010A4D198C2}', 1, 1)  # CAPE-OPEN v1.1 type lib\n",
    "coTypes = comtypes.client.GetModule(coTlb)"
   ]
  },
  {
   "cell_type": "code",
   "execution_count": 48,
   "metadata": {},
   "outputs": [],
   "source": [
    "doc = comtypes.client.CreateObject('COCO_COFE.Document', interface=cofeTypes.ICOFEDocument)\n",
    "doc.Import(\"Flowsheet1.fsd\")"
   ]
  },
  {
   "cell_type": "code",
   "execution_count": 43,
   "metadata": {},
   "outputs": [
    {
     "data": {
      "text/plain": [
       "(2.824525794895512, 139.91962949877572, 0.3140485076692411)"
      ]
     },
     "execution_count": 43,
     "metadata": {},
     "output_type": "execute_result"
    }
   ],
   "source": [
    "doc.GetUnit('Column_1').QueryInterface(coTypes.ICapeUtilities).Parameters.QueryInterface(coTypes.ICapeCollection).Item(\n",
    "            \"Reflux ratio\").QueryInterface(coTypes.ICapeParameter).value = float(5)\n",
    "doc.Solve()\n",
    "doc.GetStream('2').QueryInterface(coTypes.ICapeThermoMaterial).GetOverallProp(\"flow\", \"mole\")"
   ]
  },
  {
   "cell_type": "code",
   "execution_count": 44,
   "metadata": {},
   "outputs": [
    {
     "data": {
      "text/plain": [
       "(103.0567502043605, 219.74214539076206, 49.152434288357426)"
      ]
     },
     "execution_count": 44,
     "metadata": {},
     "output_type": "execute_result"
    }
   ],
   "source": [
    "doc.GetUnit('Column_1').QueryInterface(coTypes.ICapeUtilities).Parameters.QueryInterface(coTypes.ICapeCollection).Item(\n",
    "            \"Reflux ratio\").QueryInterface(coTypes.ICapeParameter).value = float(1)\n",
    "doc.Solve()\n",
    "doc.GetStream('2').QueryInterface(coTypes.ICapeThermoMaterial).GetOverallProp(\"flow\", \"mole\")"
   ]
  },
  {
   "cell_type": "markdown",
   "metadata": {},
   "source": [
    "# Test 4\n",
    "    - Seems to work in terms of giving different values\n",
    "    - but gives \"an object hasn't been released\""
   ]
  },
  {
   "cell_type": "code",
   "execution_count": 45,
   "metadata": {},
   "outputs": [],
   "source": [
    "doc = comtypes.client.CreateObject('COCO_COFE.Document', interface=cofeTypes.ICOFEDocument)\n",
    "doc.Import(\"Flowsheet1.fsd\")"
   ]
  },
  {
   "cell_type": "code",
   "execution_count": 46,
   "metadata": {},
   "outputs": [
    {
     "data": {
      "text/plain": [
       "(2.824525794895512, 139.91962949877572, 0.3140485076692411)"
      ]
     },
     "execution_count": 46,
     "metadata": {},
     "output_type": "execute_result"
    }
   ],
   "source": [
    "doc.GetUnit('Column_1').QueryInterface(coTypes.ICapeUtilities).Parameters.QueryInterface(coTypes.ICapeCollection).Item(\n",
    "            \"Reflux ratio\").QueryInterface(coTypes.ICapeParameter).value = float(5)\n",
    "stream2 = doc.GetStream('2').QueryInterface(coTypes.ICapeThermoMaterial)\n",
    "doc.Solve()\n",
    "stream2.GetOverallProp(\"flow\", \"mole\")"
   ]
  },
  {
   "cell_type": "code",
   "execution_count": 47,
   "metadata": {},
   "outputs": [
    {
     "data": {
      "text/plain": [
       "(103.0567502043605, 219.74214539076206, 49.152434288357426)"
      ]
     },
     "execution_count": 47,
     "metadata": {},
     "output_type": "execute_result"
    }
   ],
   "source": [
    "doc.GetUnit('Column_1').QueryInterface(coTypes.ICapeUtilities).Parameters.QueryInterface(coTypes.ICapeCollection).Item(\n",
    "            \"Reflux ratio\").QueryInterface(coTypes.ICapeParameter).value = float(1)\n",
    "doc.Solve()\n",
    "stream2.GetOverallProp(\"flow\", \"mole\")"
   ]
  },
  {
   "cell_type": "markdown",
   "metadata": {},
   "source": [
    "# Test 5"
   ]
  },
  {
   "cell_type": "code",
   "execution_count": 40,
   "metadata": {},
   "outputs": [],
   "source": [
    "doc = comtypes.client.CreateObject('COCO_COFE.Document', interface=cofeTypes.ICOFEDocument)\n",
    "doc.Import(\"Flowsheet1.fsd\")"
   ]
  },
  {
   "cell_type": "code",
   "execution_count": null,
   "metadata": {},
   "outputs": [],
   "source": [
    "Unit = doc.GetUnit('Column_1')\n",
    "Reflux_ratio = Unit.QueryInterface(coTypes.ICapeUtilities).Parameters.QueryInterface(coTypes.ICapeCollection).Item(\n",
    "            \"Reflux ratio\").QueryInterface(coTypes.ICapeParameter)"
   ]
  },
  {
   "cell_type": "code",
   "execution_count": null,
   "metadata": {},
   "outputs": [],
   "source": [
    "reflux_ratio.value = float(reflux_ratio)"
   ]
  }
 ],
 "metadata": {
  "kernelspec": {
   "display_name": "Python 3",
   "language": "python",
   "name": "python3"
  },
  "language_info": {
   "codemirror_mode": {
    "name": "ipython",
    "version": 3
   },
   "file_extension": ".py",
   "mimetype": "text/x-python",
   "name": "python",
   "nbconvert_exporter": "python",
   "pygments_lexer": "ipython3",
   "version": "3.7.7"
  }
 },
 "nbformat": 4,
 "nbformat_minor": 4
}
