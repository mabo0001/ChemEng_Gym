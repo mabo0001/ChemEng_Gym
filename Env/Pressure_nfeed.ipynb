{
 "cells": [
  {
   "cell_type": "code",
   "execution_count": 13,
   "metadata": {},
   "outputs": [],
   "source": [
    "import ctypes"
   ]
  },
  {
   "cell_type": "code",
   "execution_count": 21,
   "metadata": {
    "scrolled": true
   },
   "outputs": [
    {
     "data": {
      "text/plain": [
       "['ChangeType',\n",
       " 'U_VARIANT1',\n",
       " '_',\n",
       " '__VARIANT_NAME_1',\n",
       " '__class__',\n",
       " '__ctypes_from_outparam__',\n",
       " '__del__',\n",
       " '__delattr__',\n",
       " '__dict__',\n",
       " '__dir__',\n",
       " '__doc__',\n",
       " '__eq__',\n",
       " '__format__',\n",
       " '__ge__',\n",
       " '__getattribute__',\n",
       " '__getitem__',\n",
       " '__gt__',\n",
       " '__hash__',\n",
       " '__init__',\n",
       " '__init_subclass__',\n",
       " '__le__',\n",
       " '__lt__',\n",
       " '__module__',\n",
       " '__ne__',\n",
       " '__new__',\n",
       " '__reduce__',\n",
       " '__reduce_ex__',\n",
       " '__repr__',\n",
       " '__setattr__',\n",
       " '__setitem__',\n",
       " '__setstate__',\n",
       " '__sizeof__',\n",
       " '__str__',\n",
       " '__subclasshook__',\n",
       " '__weakref__',\n",
       " '_anonymous_',\n",
       " '_b_base_',\n",
       " '_b_needsfree_',\n",
       " '_fields_',\n",
       " '_get_value',\n",
       " '_objects',\n",
       " '_set_value',\n",
       " 'decVal',\n",
       " 'empty',\n",
       " 'from_param',\n",
       " 'missing',\n",
       " 'null',\n",
       " 'value',\n",
       " 'vt',\n",
       " 'wReserved1',\n",
       " 'wReserved2',\n",
       " 'wReserved3']"
      ]
     },
     "execution_count": 21,
     "metadata": {},
     "output_type": "execute_result"
    }
   ],
   "source": [
    "dir(VARIANT)"
   ]
  },
  {
   "cell_type": "code",
   "execution_count": 1,
   "metadata": {
    "scrolled": true
   },
   "outputs": [
    {
     "data": {
      "text/plain": [
       "['.ipynb_checkpoints',\n",
       " 'ChemSep.sep',\n",
       " 'ChemSepExample.fsd',\n",
       " 'ChemSepExample2.fsd',\n",
       " 'ChemSepExample3.fsd',\n",
       " 'ClassDefinitions.py',\n",
       " 'DC_class.py',\n",
       " 'DC_gym.py',\n",
       " 'Experiment.fsd',\n",
       " 'flowrates.xlsx',\n",
       " 'Flowsheet.xml',\n",
       " 'old',\n",
       " 'Pressure_nfeed.ipynb',\n",
       " 'unzip.ipynb',\n",
       " 'XML docs',\n",
       " '__pycache__']"
      ]
     },
     "execution_count": 1,
     "metadata": {},
     "output_type": "execute_result"
    }
   ],
   "source": [
    "import comtypes.client\n",
    "import comtypes.gen\n",
    "from comtypes import COMError\n",
    "from comtypes.automation import VARIANT\n",
    "import array\n",
    "import os\n",
    "import time\n",
    "os.listdir()"
   ]
  },
  {
   "cell_type": "code",
   "execution_count": 2,
   "metadata": {},
   "outputs": [],
   "source": [
    "# tell comtypes to load type libs\n",
    "cofeTlb = ('{0D1006C7-6086-4838-89FC-FBDCC0E98780}', 1, 0)  # COFE type lib\n",
    "cofeTypes = comtypes.client.GetModule(cofeTlb)\n",
    "coTlb = ('{4A5E2E81-C093-11D4-9F1B-0010A4D198C2}', 1, 1)  # CAPE-OPEN v1.1 type lib\n",
    "coTypes = comtypes.client.GetModule(coTlb)\n",
    "\n",
    "doc = comtypes.client.CreateObject('COCO_COFE.Document', interface=cofeTypes.ICOFEDocument)"
   ]
  },
  {
   "cell_type": "code",
   "execution_count": 7,
   "metadata": {},
   "outputs": [
    {
     "name": "stdout",
     "output_type": "stream",
     "text": [
      "2.104997158050537\n"
     ]
    }
   ],
   "source": [
    "begin = time.time()\n",
    "doc.Import('ChemSepExample.fsd')\n",
    "print(time.time() - begin)"
   ]
  },
  {
   "cell_type": "code",
   "execution_count": 8,
   "metadata": {},
   "outputs": [
    {
     "data": {
      "text/plain": [
       "('Column_1', 'Valve_1')"
      ]
     },
     "execution_count": 8,
     "metadata": {},
     "output_type": "execute_result"
    }
   ],
   "source": [
    "doc.GetUnitNames()"
   ]
  },
  {
   "cell_type": "code",
   "execution_count": null,
   "metadata": {},
   "outputs": [],
   "source": []
  },
  {
   "cell_type": "markdown",
   "metadata": {},
   "source": [
    "# Set Column Feed"
   ]
  },
  {
   "cell_type": "code",
   "execution_count": null,
   "metadata": {},
   "outputs": [],
   "source": []
  },
  {
   "cell_type": "code",
   "execution_count": 10,
   "metadata": {},
   "outputs": [
    {
     "data": {
      "text/plain": [
       "24.0"
      ]
     },
     "execution_count": 10,
     "metadata": {},
     "output_type": "execute_result"
    }
   ],
   "source": [
    "doc.GetUnit('Column_1').QueryInterface(coTypes.ICapeUtilities).Parameters.QueryInterface(coTypes.ICapeCollection).Item(\n",
    "            \"Feed1 stage\").QueryInterface(coTypes.ICapeParameter).value"
   ]
  },
  {
   "cell_type": "markdown",
   "metadata": {},
   "source": [
    "# Valve Investigation"
   ]
  },
  {
   "cell_type": "code",
   "execution_count": 16,
   "metadata": {},
   "outputs": [
    {
     "name": "stdout",
     "output_type": "stream",
     "text": [
      "Pressure spec.\n",
      "Pressure difference\n",
      "Pressure\n",
      "Thermo Version\n"
     ]
    }
   ],
   "source": [
    "count = doc.GetUnit('Valve_1').QueryInterface(coTypes.ICapeUtilities). \\\n",
    "    Parameters.QueryInterface(coTypes.ICapeCollection).Count()\n",
    "for i in range(1, count+1):\n",
    "    print(doc.GetUnit('Valve_1').QueryInterface(coTypes.ICapeUtilities).Parameters. \\\n",
    "    QueryInterface(coTypes.ICapeCollection).Item(i).QueryInterface(coTypes.ICapeParameter). \\\n",
    "    QueryInterface(coTypes.ICapeIdentification).ComponentName)"
   ]
  },
  {
   "cell_type": "code",
   "execution_count": 17,
   "metadata": {},
   "outputs": [
    {
     "data": {
      "text/plain": [
       "0.0"
      ]
     },
     "execution_count": 17,
     "metadata": {},
     "output_type": "execute_result"
    }
   ],
   "source": [
    "doc.GetUnit('Valve_1').QueryInterface(coTypes.ICapeUtilities).Parameters.QueryInterface(coTypes.ICapeCollection).Item(\n",
    "            \"Pressure difference\").QueryInterface(coTypes.ICapeParameter).value"
   ]
  },
  {
   "cell_type": "code",
   "execution_count": 18,
   "metadata": {},
   "outputs": [
    {
     "data": {
      "text/plain": [
       "1763055.0"
      ]
     },
     "execution_count": 18,
     "metadata": {},
     "output_type": "execute_result"
    }
   ],
   "source": [
    "doc.GetUnit('Valve_1').QueryInterface(coTypes.ICapeUtilities).Parameters.QueryInterface(coTypes.ICapeCollection).Item(\n",
    "            \"Pressure\").QueryInterface(coTypes.ICapeParameter).value"
   ]
  },
  {
   "cell_type": "code",
   "execution_count": 28,
   "metadata": {},
   "outputs": [
    {
     "data": {
      "text/plain": [
       "1763055.0"
      ]
     },
     "execution_count": 28,
     "metadata": {},
     "output_type": "execute_result"
    }
   ],
   "source": [
    "doc.GetStream('1').QueryInterface(coTypes.ICapeThermoMaterial).GetOverallProp(\"pressure\", \"\")[0]"
   ]
  },
  {
   "cell_type": "markdown",
   "metadata": {},
   "source": [
    "# Set Column Pressure"
   ]
  },
  {
   "cell_type": "code",
   "execution_count": 5,
   "metadata": {},
   "outputs": [
    {
     "name": "stdout",
     "output_type": "stream",
     "text": [
      "GUIArguments\n",
      "UseCOSEThermo\n",
      "UseCOSEDiffusionCoefficients\n",
      "UsePerturbedDerivativesOnly\n",
      "UsePerturbed_ddX\n",
      "SuppressWarnings\n",
      "RelativePerturbationTemperature\n",
      "RelativePerturbationPressure\n",
      "PerturbationComposition\n",
      "OutletFlash\n",
      "UseOnlyKValuesAndEnthalpyFromCOSE\n",
      "RestartDataAvailable\n",
      "OmitStageFromPortName\n",
      "WilsonEstimate\n",
      "LogPropertyCalls\n",
      "EnergyPorts\n",
      "Allowed temperature difference\n",
      "Number of stages\n",
      "Reflux ratio\n",
      "Reboil ratio\n",
      "Condenser pressure\n",
      "Top pressure\n",
      "Total Annual Cost\n",
      "Condenser duty\n",
      "Reboiler duty\n",
      "Temperature profile\n",
      "Pressure profile\n",
      "Vapour Flow profile\n",
      "Liquid Flow profile\n",
      "Duties profile\n",
      "Vapour Moleweight profile\n",
      "Vapour Density profile\n",
      "Vapour Viscosity profile\n",
      "Vapour Heat capacity profile\n",
      "Vapour Th. Conduct. profile\n",
      "Vapour Std density profile\n",
      "Liquid Moleweight profile\n",
      "Liquid Density profile\n",
      "Liquid Viscosity profile\n",
      "Liquid Heat capacity profile\n",
      "Liquid Th. Conduct. profile\n",
      "Liquid Surf. tension profile\n",
      "Liquid Std Density profile\n"
     ]
    }
   ],
   "source": [
    "count = doc.GetUnit(\"Column_1\").QueryInterface(coTypes.ICapeUtilities). \\\n",
    "    Parameters.QueryInterface(coTypes.ICapeCollection).Count()\n",
    "for i in range(1, count+1):\n",
    "    print(doc.GetUnit(\"Column_1\").QueryInterface(coTypes.ICapeUtilities).Parameters. \\\n",
    "    QueryInterface(coTypes.ICapeCollection).Item(i).QueryInterface(coTypes.ICapeParameter). \\\n",
    "    QueryInterface(coTypes.ICapeIdentification).ComponentName)"
   ]
  },
  {
   "cell_type": "code",
   "execution_count": 15,
   "metadata": {},
   "outputs": [
    {
     "data": {
      "text/plain": [
       "(340.54, 347.69, 352.05, 354.61, 356.07, 356.9)"
      ]
     },
     "execution_count": 15,
     "metadata": {},
     "output_type": "execute_result"
    }
   ],
   "source": [
    "doc.GetUnit('Column_1').QueryInterface(coTypes.ICapeUtilities).Parameters.QueryInterface(coTypes.ICapeCollection).Item(\n",
    "            \"Temperature profile\").QueryInterface(coTypes.ICapeParameter).value[0:6]"
   ]
  },
  {
   "cell_type": "code",
   "execution_count": 14,
   "metadata": {},
   "outputs": [
    {
     "data": {
      "text/plain": [
       "(1825.675, 5477.025000000001, 5450.727, 5444.581999999999, 5444.964, 5444.658)"
      ]
     },
     "execution_count": 14,
     "metadata": {},
     "output_type": "execute_result"
    }
   ],
   "source": [
    "doc.GetUnit('Column_1').QueryInterface(coTypes.ICapeUtilities).Parameters.QueryInterface(coTypes.ICapeCollection).Item(\n",
    "            \"Vapour Flow profile\").QueryInterface(coTypes.ICapeParameter).value[0:6]"
   ]
  },
  {
   "cell_type": "code",
   "execution_count": null,
   "metadata": {},
   "outputs": [],
   "source": []
  },
  {
   "cell_type": "code",
   "execution_count": null,
   "metadata": {},
   "outputs": [],
   "source": [
    "doc.GetUnit('Column_1').QueryInterface(coTypes.ICapeUtilities).Parameters.QueryInterface(coTypes.ICapeCollection).Item(\n",
    "            \"Vapour Flow profile\").QueryInterface(coTypes.ICapeParameter).value[0:6]"
   ]
  },
  {
   "cell_type": "code",
   "execution_count": null,
   "metadata": {},
   "outputs": [],
   "source": [
    "doc.GetUnit('Column_1').QueryInterface(coTypes.ICapeUtilities).Parameters.QueryInterface(coTypes.ICapeCollection).Item(\n",
    "            \"Condenser pressure\").QueryInterface(coTypes.ICapeParameter).value"
   ]
  }
 ],
 "metadata": {
  "kernelspec": {
   "display_name": "Python 3",
   "language": "python",
   "name": "python3"
  },
  "language_info": {
   "codemirror_mode": {
    "name": "ipython",
    "version": 3
   },
   "file_extension": ".py",
   "mimetype": "text/x-python",
   "name": "python",
   "nbconvert_exporter": "python",
   "pygments_lexer": "ipython3",
   "version": "3.7.7"
  }
 },
 "nbformat": 4,
 "nbformat_minor": 4
}
