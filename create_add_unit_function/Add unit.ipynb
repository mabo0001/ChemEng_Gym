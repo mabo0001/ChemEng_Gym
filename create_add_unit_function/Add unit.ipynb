{
 "cells": [
  {
   "cell_type": "code",
   "execution_count": 1,
   "metadata": {
    "scrolled": true
   },
   "outputs": [
    {
     "data": {
      "text/plain": [
       "['.ipynb_checkpoints',\n",
       " 'Add unit.ipynb',\n",
       " 'blank.xml',\n",
       " 'Flowsheet.xml',\n",
       " 'old',\n",
       " 'run_flowsheet.fsd',\n",
       " 'Tester',\n",
       " 'unit_maker.py',\n",
       " '__pycache__']"
      ]
     },
     "execution_count": 1,
     "metadata": {},
     "output_type": "execute_result"
    }
   ],
   "source": [
    "import zipfile\n",
    "import os\n",
    "import sys\n",
    "import xml.etree.ElementTree as ET\n",
    "import subprocess\n",
    "import copy\n",
    "from unit_maker import UnitMaker\n",
    "import numpy as np\n",
    "os.listdir()"
   ]
  },
  {
   "cell_type": "markdown",
   "metadata": {},
   "source": [
    "## Configure initial file"
   ]
  },
  {
   "cell_type": "code",
   "execution_count": 2,
   "metadata": {
    "scrolled": true
   },
   "outputs": [],
   "source": [
    "etree=ET.parse('blank.xml')\n",
    "root = etree.getroot()\n",
    "etree.write('Flowsheet.xml')\n",
    "with zipfile.ZipFile('run_flowsheet.fsd', 'w') as myzip:\n",
    "    myzip.write('Flowsheet.xml')"
   ]
  },
  {
   "cell_type": "markdown",
   "metadata": {},
   "source": [
    "## First Sucessful with  unitmaker class"
   ]
  },
  {
   "cell_type": "code",
   "execution_count": 3,
   "metadata": {},
   "outputs": [],
   "source": [
    "stream_number = 1\n",
    "stream = root.find(f\"\"\"stream[@name=\"{stream_number}\"]\"\"\")"
   ]
  },
  {
   "cell_type": "code",
   "execution_count": 4,
   "metadata": {},
   "outputs": [],
   "source": [
    "end_coordinates = (int(stream.find(\"end\").attrib[\"x\"]), \n",
    "                   int(stream.find(\"end\").attrib[\"y\"]))\n",
    "Temperature = float(stream.find(\"temperature\").text)\n",
    "Pressure = float(stream.find(\"pressure\").text)\n",
    "total_flow = float(stream.find(\"molarFlow\").text)/1000 # make in kmol/hr\n",
    "component_flow = [float(x)*total_flow for x in \n",
    "                stream.find('phase[@name=\"Overall\"]/moleFraction').text.split(\";\")]\n",
    "vapour_fraction = float(stream.find('phase[@name=\"Vapor\"]/molarPhaseFraction').text)"
   ]
  },
  {
   "cell_type": "code",
   "execution_count": 10,
   "metadata": {},
   "outputs": [],
   "source": [
    "inlet_stream_info = {\"number\":stream_number,\n",
    "                     \"Temperature\": Temperature,\n",
    "                     \"Pressure\": Pressure,\n",
    "                     \"vapour_fraction\": vapour_fraction,\n",
    "                     \"component_flow\" : component_flow,\n",
    "                     \"end_coordinates\": end_coordinates,\n",
    "                    }"
   ]
  },
  {
   "cell_type": "code",
   "execution_count": 11,
   "metadata": {},
   "outputs": [],
   "source": [
    "column1 = UnitMaker(inlet_stream_info, column_number\n",
    "                    = 1)"
   ]
  },
  {
   "cell_type": "code",
   "execution_count": 12,
   "metadata": {
    "scrolled": true
   },
   "outputs": [
    {
     "data": {
      "text/plain": [
       "('<unitOpera', '\\n\\t\\t\\t<strea', '\\n\\t\\t<stream')"
      ]
     },
     "execution_count": 12,
     "metadata": {},
     "output_type": "execute_result"
    }
   ],
   "source": [
    "column1.unit_string[0:10], column1.bottom_stream_string[0:10], column1.top_stream_string[0:10]"
   ]
  },
  {
   "cell_type": "code",
   "execution_count": 13,
   "metadata": {},
   "outputs": [],
   "source": [
    "ChemSep_element = ET.fromstring(column1.unit_string)\n",
    "tops_stream_element = ET.fromstring(column1.top_stream_string)\n",
    "bottoms_stream_element = ET.fromstring(column1.bottom_stream_string)"
   ]
  },
  {
   "cell_type": "code",
   "execution_count": 14,
   "metadata": {},
   "outputs": [],
   "source": [
    "# this order does matter\n",
    "root.append(tops_stream_element)\n",
    "root.append(bottoms_stream_element)\n",
    "root.append(ChemSep_element)\n",
    "#ET.dump(root)"
   ]
  },
  {
   "cell_type": "code",
   "execution_count": 15,
   "metadata": {},
   "outputs": [],
   "source": [
    "etree.write('Flowsheet.xml')"
   ]
  },
  {
   "cell_type": "code",
   "execution_count": 16,
   "metadata": {},
   "outputs": [],
   "source": [
    "with zipfile.ZipFile('run_flowsheet.fsd', 'w') as myzip:\n",
    "    myzip.write('Flowsheet.xml')"
   ]
  },
  {
   "cell_type": "code",
   "execution_count": 17,
   "metadata": {
    "scrolled": true
   },
   "outputs": [
    {
     "data": {
      "text/plain": [
       "CompletedProcess(args='Cofestand64 run_flowsheet.fsd', returncode=0)"
      ]
     },
     "execution_count": 17,
     "metadata": {},
     "output_type": "execute_result"
    }
   ],
   "source": [
    "subprocess.run(\"Cofestand64 run_flowsheet.fsd\", shell=True)"
   ]
  },
  {
   "cell_type": "markdown",
   "metadata": {},
   "source": [
    "# Turn into a function"
   ]
  },
  {
   "cell_type": "code",
   "execution_count": 3,
   "metadata": {},
   "outputs": [],
   "source": [
    "def add_column(stream_number, filename=\"run_flowsheet.fsd\", **kwargs):\n",
    "    zip_ref = zipfile.ZipFile(filename, 'r')\n",
    "    zip_ref.extractall()\n",
    "    zip_ref.close()\n",
    "    # get etree\n",
    "    etree=ET.parse(\"Flowsheet.xml\")\n",
    "    root = etree.getroot()\n",
    "    \n",
    "    # get inlet stream and relevant info\n",
    "    stream = root.find(f\"\"\"stream[@name=\"{stream_number}\"]\"\"\")\n",
    "    end_coordinates = (int(stream.find(\"end\").attrib[\"x\"]), \n",
    "                       int(stream.find(\"end\").attrib[\"y\"]))\n",
    "    Temperature = float(stream.find(\"temperature\").text)\n",
    "    Pressure = float(stream.find(\"pressure\").text)\n",
    "    total_flow = float(stream.find(\"molarFlow\").text)/1000 # make in kmol/hr\n",
    "    component_flow = [float(x)*total_flow for x in \n",
    "                    stream.find('phase[@name=\"Overall\"]/moleFraction').text.split(\";\")]\n",
    "    vapour_fraction = float(stream.find('phase[@name=\"Vapor\"]/molarPhaseFraction').text)\n",
    "    inlet_stream_info = {\"number\":stream_number,\n",
    "                     \"Temperature\": Temperature,\n",
    "                     \"Pressure\": Pressure,\n",
    "                     \"vapour_fraction\": vapour_fraction,\n",
    "                     \"component_flow\" : component_flow,\n",
    "                     \"end_coordinates\": end_coordinates,\n",
    "                    }\n",
    "    column = UnitMaker(inlet_stream_info, **kwargs)\n",
    "    ChemSep_element = ET.fromstring(column.unit_string)\n",
    "    tops_stream_element = ET.fromstring(column.top_stream_string)\n",
    "    bottoms_stream_element = ET.fromstring(column.bottom_stream_string)\n",
    "    \n",
    "    root.append(tops_stream_element)\n",
    "    root.append(bottoms_stream_element)\n",
    "    root.append(ChemSep_element)\n",
    "    \n",
    "    etree.write('Flowsheet.xml')\n",
    "    with zipfile.ZipFile('run_flowsheet.fsd', 'w') as myzip:\n",
    "        myzip.write('Flowsheet.xml')\n",
    "    return subprocess.run(\"Cofestand64 run_flowsheet.fsd\", shell=True)\n",
    "    "
   ]
  },
  {
   "cell_type": "code",
   "execution_count": 4,
   "metadata": {},
   "outputs": [
    {
     "data": {
      "text/plain": [
       "CompletedProcess(args='Cofestand64 run_flowsheet.fsd', returncode=0)"
      ]
     },
     "execution_count": 4,
     "metadata": {},
     "output_type": "execute_result"
    }
   ],
   "source": [
    "add_column(1, column_number=1)"
   ]
  },
  {
   "cell_type": "code",
   "execution_count": 5,
   "metadata": {},
   "outputs": [
    {
     "data": {
      "text/plain": [
       "CompletedProcess(args='Cofestand64 run_flowsheet.fsd', returncode=0)"
      ]
     },
     "execution_count": 5,
     "metadata": {},
     "output_type": "execute_result"
    }
   ],
   "source": [
    "add_column(211, column_number=2)"
   ]
  },
  {
   "cell_type": "code",
   "execution_count": 6,
   "metadata": {},
   "outputs": [
    {
     "data": {
      "text/plain": [
       "CompletedProcess(args='Cofestand64 run_flowsheet.fsd', returncode=0)"
      ]
     },
     "execution_count": 6,
     "metadata": {},
     "output_type": "execute_result"
    }
   ],
   "source": [
    "add_column(212, column_number=3)"
   ]
  },
  {
   "cell_type": "code",
   "execution_count": 7,
   "metadata": {},
   "outputs": [
    {
     "data": {
      "text/plain": [
       "CompletedProcess(args='Cofestand64 run_flowsheet.fsd', returncode=0)"
      ]
     },
     "execution_count": 7,
     "metadata": {},
     "output_type": "execute_result"
    }
   ],
   "source": [
    "add_column(321, column_number=4)"
   ]
  },
  {
   "cell_type": "markdown",
   "metadata": {},
   "source": [
    "# compare to old - debugging"
   ]
  },
  {
   "cell_type": "code",
   "execution_count": 41,
   "metadata": {},
   "outputs": [],
   "source": [
    "ChemSep_element = ET.fromstring(unit_string)\n",
    "tops_stream_element = ET.fromstring(top_stream_string)\n",
    "bottoms_stream_element = ET.fromstring(bottom_stream_string)"
   ]
  },
  {
   "cell_type": "code",
   "execution_count": 42,
   "metadata": {},
   "outputs": [
    {
     "data": {
      "text/plain": [
       "CompletedProcess(args='Cofestand64 run_flowsheet.fsd', returncode=0)"
      ]
     },
     "execution_count": 42,
     "metadata": {},
     "output_type": "execute_result"
    }
   ],
   "source": [
    "# this order does matter\n",
    "root.append(tops_stream_element)\n",
    "root.append(bottoms_stream_element)\n",
    "root.append(ChemSep_element)\n",
    "etree.write('Flowsheet.xml')\n",
    "with zipfile.ZipFile('run_flowsheet.fsd', 'w') as myzip:\n",
    "    myzip.write('Flowsheet.xml')\n",
    "subprocess.run(\"Cofestand64 run_flowsheet.fsd\", shell=True)"
   ]
  },
  {
   "cell_type": "code",
   "execution_count": 55,
   "metadata": {},
   "outputs": [],
   "source": [
    "feed_temperature = column1.feed_temperature\n",
    "feed_pressure = column1.feed_pressure \n",
    "vapour_fraction_feed = column1.vapour_fraction_feed\n",
    "inlet_stream_number = column1.inlet_stream_number\n",
    "component_flow = column1.component_flow\n",
    "n_components = column1.n_components \n",
    "inlet_coordinates = column1.inlet_coordinates\n",
    "box_width = 30\n",
    "\n",
    "y_max = column1.inlet_coordinates[1] + box_width/2\n",
    "y_min = column1.inlet_coordinates[1] - box_width/2\n",
    "x_min = column1.inlet_coordinates[0]\n",
    "x_max = column1.inlet_coordinates[0] + box_width\n",
    "\n",
    "specification1 = column1.specification1\n",
    "specification2 = column1.specification2\n",
    "\n",
    "tops_stream_number = column1.tops_stream_number\n",
    "bottoms_stream_number = column1.bottoms_stream_number\n",
    "\n",
    "column_name = column1.column_name\n",
    "n_stages = column1.n_stages\n",
    "pressure = column1.pressure\n",
    "\n",
    "feed_stage = column1.feed_stage"
   ]
  },
  {
   "cell_type": "code",
   "execution_count": 56,
   "metadata": {},
   "outputs": [
    {
     "name": "stdout",
     "output_type": "stream",
     "text": [
      "348.15 101325.0 0.42987832470870274 1 [0.3333333333333333, 0.3333333333333333, 0.33333333333333337] 3 (48, 27) 42.0 12.0 48 78 ('1 Spec Reflux ratio', 2) ('1 Spec Boilup ratio', 1.5) 2 3 Column 1 20 101325.0 10\n"
     ]
    }
   ],
   "source": [
    "box_width = 30\n",
    "print(column1.feed_temperature,\n",
    "column1.feed_pressure,\n",
    "column1.vapour_fraction_feed,\n",
    "column1.inlet_stream_number,\n",
    "column1.component_flow,\n",
    "column1.n_components ,\n",
    "column1.inlet_coordinates,\n",
    "column1.inlet_coordinates[1] + box_width/2,\n",
    "column1.inlet_coordinates[1] - box_width/2,\n",
    "column1.inlet_coordinates[0],\n",
    "column1.inlet_coordinates[0] + box_width,\n",
    "column1.specification1,\n",
    "column1.specification2,\n",
    "column1.tops_stream_number,\n",
    "column1.bottoms_stream_number,\n",
    "column1.column_name,\n",
    "column1.n_stages,\n",
    "column1.pressure,\n",
    "column1.feed_stage)"
   ]
  },
  {
   "cell_type": "code",
   "execution_count": null,
   "metadata": {},
   "outputs": [],
   "source": [
    "print(column1.feed_temperature,\n",
    "column1.feed_pressure,\n",
    "column1.vapour_fraction_feed,\n",
    "column1.inlet_stream_number,\n",
    "column1.component_flow,\n",
    "column1.n_components ,\n",
    "column1.inlet_coordinates,\n",
    "column1.inlet_coordinates[1] + box_width/2,\n",
    "column1.inlet_coordinates[1] - box_width/2,\n",
    "column1.inlet_coordinates[0],\n",
    "column1.inlet_coordinates[0] + box_width,\n",
    "column1.specification1,\n",
    "column1.specification2,\n",
    "column1.tops_stream_number,\n",
    "column1.bottoms_stream_number,\n",
    "column1.column_name,\n",
    "column1.n_stages,\n",
    "column1.pressure,\n",
    "column1.feed_stage)"
   ]
  },
  {
   "cell_type": "code",
   "execution_count": 57,
   "metadata": {},
   "outputs": [],
   "source": [
    "column_name = 'Column_1'\n",
    "n_stages = 30\n",
    "feed_stage = 10\n",
    "pressure = 101325*2 # assuming no pressure drop currently\n",
    "feed_pressure = 101325\n",
    "feed_temperature = 348.15\n",
    "vapour_fraction_feed = 0.429878\n",
    "component_flow = [0.333333, 0.333333, 0.333333]\n",
    "specification_1 = \"1 Spec Reflux ratio\"\n",
    "specification_1_value = 2\n",
    "specification_2 = \"1 Spec Boilup ratio\"\n",
    "specification_2_value = 1.5\n",
    "inlet_stream_number = 1\n",
    "tops_stream_number = 2\n",
    "bottoms_stream_number = 3\n",
    "y_max = 38\n",
    "x_min = 48\n",
    "x_max = 62\n",
    "y_min = 14 "
   ]
  },
  {
   "cell_type": "code",
   "execution_count": 38,
   "metadata": {},
   "outputs": [],
   "source": [
    "unit_string = fr\"\"\"<unitOperation CLSID=\"ChemSepUO.ChemSep_UnitOperation.1\" name=\"{column_name}\" type=\"COM:1.0\">\n",
    "    <description>ChemSep Unit Operation</description>\n",
    "    <properties>\n",
    "      <value name=\"sepFile\" type=\"str\">[ChemSep]\n",
    "Version=8.20\n",
    "Compiled=2020-4-6 01:55 717b5cb3d168\n",
    "Name=C:\\Users\\MEATRO~1\\AppData\\Local\\Temp\\CS_3_1~2.sep\n",
    "Title=ChemSep CO Unit Operation \"{column_name}\" in COFE Flowsheet\n",
    "User=meatrobot\n",
    "Date=2020-04-22\n",
    "Time=09:27:25\n",
    "\n",
    "[Paths]\n",
    "Device drivers path=c:\\program files\\chemsepl8v20\\bin\\\n",
    "Help and Info path=c:\\program files\\chemsepl8v20\\help\\\n",
    "Component data path=c:\\program files\\chemsepl8v20\\pcd\\\n",
    "Property data path=c:\\program files\\chemsepl8v20\\ipd\\\n",
    "Section data path=c:\\program files\\chemsepl8v20\\ild\\\n",
    "Executables path=C:\\Program Files\\ChemSepL8v20\\bin\\\n",
    "Temporary path=C:\\Users\\MEATRO~1\\AppData\\Local\\Temp\\\n",
    "Scripts path=c:\\program files\\chemsepl8v20\\bin\\\n",
    "\n",
    "[Units]\n",
    "Temperature=K\n",
    "Flow=kmol/s\n",
    "Mass flow=kg/s\n",
    "Vapour volumetric flow=m3/s\n",
    "Liquid volumetric flow=m3/s\n",
    "Pressure=N/m2\n",
    "Heat=J/s\n",
    "Enthalpy=J/kmol\n",
    "Entropy=J/kmol/K\n",
    "Fraction=_\n",
    "Length=m\n",
    "1/Length=1/m\n",
    "Area=m2\n",
    "Volume=m3\n",
    "Moles=kmol\n",
    "Mass=kg\n",
    "Angle=rad\n",
    "Velocity=m/s\n",
    "Surface tension=N/m\n",
    "Density=kg/m3\n",
    "Molar density=kmol/m3\n",
    "Viscosity=N/m2.s\n",
    "Molecular weight=kg/kmol\n",
    "Heat capacity=J/kmol/K\n",
    "Thermal conductivity=J/s/m/K\n",
    "Diffusivity=m2/s\n",
    "Interaction parameter=J/mol\n",
    "Time=s\n",
    "\n",
    "[Components]\n",
    "3 Number of Components\n",
    "14 1921 Library Offset, Index DT=2020-04-03,20:56:46 CHK=271822342 CAS=7732-18-5 CID=Water\n",
    "Name=Water\n",
    "Lib=c:\\program files\\chemsepl8v20\\pcd\\chemsep1.pcd\n",
    "125 501 Library Offset, Index DT=2020-04-03,20:56:46 CHK=63532870 CAS=71-43-2 CID=Benzene\n",
    "Name=Benzene\n",
    "Lib=c:\\program files\\chemsepl8v20\\pcd\\chemsep1.pcd\n",
    "140 502 Library Offset, Index DT=2020-04-03,20:56:46 CHK=403992560 CAS=108-88-3 CID=Toluene\n",
    "Name=Toluene\n",
    "Lib=c:\\program files\\chemsepl8v20\\pcd\\chemsep1.pcd\n",
    "\n",
    "[Operation]\n",
    "2 Operation Column\n",
    "1 Operation kind Simple Distillation\n",
    "1 Condenser Total (Liquid product)\n",
    "1 Reboiler Partial (Liquid product)\n",
    "{n_stages} Stages\n",
    "1 Feed stages\n",
    "0 Sidestream stages\n",
    "F={feed_stage}\n",
    "S=\n",
    "0 Pumparound stages\n",
    "P=\n",
    "0 Interconnections\n",
    "I=\n",
    "0 Extra condensers\n",
    "C=\n",
    "0 Extra reboilers\n",
    "R=\n",
    "\n",
    "[Simulation Model]\n",
    "*  Simulation model *\n",
    "\n",
    "[Properties]\n",
    "350 BIP estimation temperature\n",
    "0 Estimation BIPs\n",
    "\n",
    "[Thermodynamics]\n",
    "1 K model Raoult's law\n",
    "1 * Activity coefficient Ideal solution\n",
    "*  Wilson model *\n",
    "*  UNIQUAC model *\n",
    "1 Equation of State Ideal gas law\n",
    "*  Cubic EOS *\n",
    "*  Virial EOS *\n",
    "1 Vapour pressure Antoine\n",
    "0 Henry's law\n",
    "*  Henry's default *\n",
    "\n",
    "[Enthalpy]\n",
    "2 Enthalpy Ideal\n",
    "1 Enthalpy reference state Vapour\n",
    "298.15 Enthalpy reference temperature\n",
    "1 Formation enthalpies Excluded\n",
    "298.15 Exergy surroundings temperature\n",
    "\n",
    "[Physical property models]\n",
    "1 1 No Check T range\n",
    "*  Cubic EOS *\n",
    "*  Virial EOS *\n",
    "*  Vapour model *\n",
    "*  Liquid mixture density *\n",
    "*  Liquid component density *\n",
    "*  Vapour mixture viscosity *\n",
    "*  Vapour mixture viscosity pressure correction *\n",
    "*  Vapour component viscosity *\n",
    "*  Liquid mixture viscosity *\n",
    "*  Liquid component viscosity *\n",
    "* Vapour mixture Cp\n",
    "1 Vapour component Cp T correlation\n",
    "1 Liquid mixture Cp Mole fraction average of pure compound values\n",
    "* Liquid component Cp\n",
    "*  Vapour mixture conductivity *\n",
    "*  Vapour component conductivity *\n",
    "*  Liquid mixture conductivity *\n",
    "*  Liquid component conductivity *\n",
    "*  Mixture surface tension *\n",
    "*  Component surface tension *\n",
    "*  Vignes MS D-model *\n",
    "*  D mixture model *\n",
    "*  Vapour Diffusion Coefficients *\n",
    "11 Default Liquid Diffusion Coefficients Modified Wilke-Chang\n",
    "*  Interfacial tension *\n",
    "\n",
    "[Reaction data]\n",
    "0 Number of reactions\n",
    "\n",
    "[Specifications]\n",
    "Top\n",
    "Bottom\n",
    "\n",
    "[Heaters/Coolers]\n",
    "0 Number\n",
    "0 Column duty Qcolumn\n",
    "2 First stage\n",
    "{n_stages - 1} Last stage\n",
    "0 Qcolumn lost to surroundings\n",
    "\n",
    "[Efficiencies]\n",
    "1 Default efficiency\n",
    "0 Number\n",
    "\n",
    "[Pressures]\n",
    "1 Column pressure Constant pressure\n",
    "{pressure} Condenser pressure\n",
    "{pressure} Top pressure\n",
    "* Pressure Drop\n",
    "* Bottom pressure\n",
    "\n",
    "[Feeds]\n",
    "1 Number\n",
    "*  Feed state *\n",
    "{feed_stage} Stage Feed1{{split}}\n",
    "{feed_temperature} Temperature\n",
    "{feed_pressure} Pressure\n",
    "{vapour_fraction_feed} Vapour fraction\n",
    "3 componentflows\n",
    "{component_flow[0]} Component 1 flow\n",
    "{component_flow[1]} Component 2 flow\n",
    "{component_flow[2]} Component 3 flow\n",
    "\n",
    "[Condenser]\n",
    "{specification1[0]}\n",
    "{specification1[1]} Value Qcondenser\n",
    "* Subcooling\n",
    "*  Type *\n",
    "* Initialization guess * *\n",
    "\n",
    "[Reboiler]\n",
    "{specification2[0]}\n",
    "{specification2[1]} Value Qreboiler\n",
    "* Superheating\n",
    "*  Type *\n",
    "* Initialization guess * *\n",
    "\n",
    "[Monitored Variables]\n",
    "*\n",
    "\n",
    "\n",
    "[Solve options]\n",
    "1 Initialization Automatic\n",
    "1 Method Newton's method\n",
    "0.5 Flow Step limit\n",
    "10 Temperature Step limit\n",
    "1 Composition Step limit\n",
    "1 Flux Step limit\n",
    "0.000001 Accuracy\n",
    "30 Maximum iterations\n",
    "1 Iteration count &amp; function vector\n",
    "0 T/V/L profiles\n",
    "0 X/Y profiles\n",
    "0 Variable and function vectors\n",
    "0 Jacobian\n",
    "1 History Screen\n",
    "History file=\n",
    "1 Feeds type Stage below\n",
    "0 Interactive\n",
    "0 Log thermodynamics\n",
    "0 Log enthalpy/entropy\n",
    "0 Log physical properties\n",
    "0 Log timing\n",
    "0 CO numeric differencing\n",
    "* Log from iteration\n",
    "0 CS K-value\n",
    "0 CS enthalpy\n",
    "0 CS entropy\n",
    "0 CS flash\n",
    "0 CS activity coefficient\n",
    "0 CS vapor pressuure\n",
    "0 CS density\n",
    "0 CS viscosity\n",
    "0 CS thermal conductivity\n",
    "0 CS heat capacity\n",
    "0 CS surface tension\n",
    "0 CS diffusivity\n",
    "0 Trace treshold\n",
    "\n",
    "[Programs]\n",
    "Temporary file=SCRATCH.TMP\n",
    "User program=\n",
    "1 Compiler Gfortran\n",
    "1 Show windows Hidden\n",
    "\n",
    "\n",
    "[End of Input]\n",
    "\n",
    "</value>\n",
    "      <value name=\"parameters\" type=\"str[]\">\n",
    "        <el>GUIArguments</el>\n",
    "        <el>UseCOSEThermo</el>\n",
    "        <el>UseCOSEDiffusionCoefficients</el>\n",
    "        <el>UsePerturbedDerivativesOnly</el>\n",
    "        <el>UsePerturbed_ddX</el>\n",
    "        <el>SuppressWarnings</el>\n",
    "        <el>RelativePerturbationTemperature</el>\n",
    "        <el>RelativePerturbationPressure</el>\n",
    "        <el>PerturbationComposition</el>\n",
    "        <el>OutletFlash</el>\n",
    "        <el>UseOnlyKValuesAndEnthalpyFromCOSE</el>\n",
    "        <el>RestartDataAvailable</el>\n",
    "        <el>OmitStageFromPortName</el>\n",
    "        <el>WilsonEstimate</el>\n",
    "        <el>LogPropertyCalls</el>\n",
    "        <el>EnergyPorts</el>\n",
    "        <el>Allowed temperature difference</el>\n",
    "      </value>\n",
    "      <value name=\"GUIArguments\" type=\"str\">/kpld</value>\n",
    "      <value name=\"UseCOSEThermo\" type=\"bool\">false</value>\n",
    "      <value name=\"UseCOSEDiffusionCoefficients\" type=\"bool\">false</value>\n",
    "      <value name=\"UsePerturbedDerivativesOnly\" type=\"bool\">false</value>\n",
    "      <value name=\"UsePerturbed_ddX\" type=\"bool\">false</value>\n",
    "      <value name=\"SuppressWarnings\" type=\"bool\">true</value>\n",
    "      <value name=\"RelativePerturbationTemperature\" type=\"r8\">0.001</value>\n",
    "      <value name=\"RelativePerturbationPressure\" type=\"r8\">0.001</value>\n",
    "      <value name=\"PerturbationComposition\" type=\"r8\">0.001</value>\n",
    "      <value name=\"OutletFlash\" type=\"str\">Auto</value>\n",
    "      <value name=\"UseOnlyKValuesAndEnthalpyFromCOSE\" type=\"bool\">false</value>\n",
    "      <value name=\"RestartDataAvailable\" type=\"bool\">false</value>\n",
    "      <value name=\"OmitStageFromPortName\" type=\"bool\">false</value>\n",
    "      <value name=\"WilsonEstimate\" type=\"bool\">false</value>\n",
    "      <value name=\"LogPropertyCalls\" type=\"bool\">false</value>\n",
    "      <value name=\"EnergyPorts\" type=\"bool\">false</value>\n",
    "      <value name=\"Allowed temperature difference\" type=\"r8\">12</value>\n",
    "      <value name=\"profileParameters\" type=\"empty\" />\n",
    "      <value name=\"userParameters\" type=\"empty\" />\n",
    "      <value name=\"reports\" type=\"empty\" />\n",
    "      <value name=\"inletPortNames\" type=\"str[]\">\n",
    "        <el>Feed1_stage{feed_stage}</el>\n",
    "      </value>\n",
    "      <value name=\"inletPortCSNames\" type=\"str[]\">\n",
    "        <el>Feed1</el>\n",
    "      </value>\n",
    "      <value name=\"inletPortStages\" type=\"i4[]\">{feed_stage}</value>\n",
    "      <value name=\"inletPortIDs\" type=\"i4[]\">0</value>\n",
    "      <value name=\"outletPortNames\" type=\"str[]\">\n",
    "        <el>TopProduct</el>\n",
    "        <el>BottomProduct</el>\n",
    "      </value>\n",
    "      <value name=\"outletPortCSNames\" type=\"str[]\">\n",
    "        <el>top</el>\n",
    "        <el>bottom</el>\n",
    "      </value>\n",
    "      <value name=\"outletPortStages\" type=\"i4[]\">-1;-1</value>\n",
    "      <value name=\"outletPortIDs\" type=\"i4[]\">-1;-2</value>\n",
    "      <value name=\"outletPortFlashTypes\" type=\"i4[]\">4;4</value>\n",
    "    </properties>\n",
    "    <id>1</id>\n",
    "    <location bottom=\"{y_max}\" left=\"{x_min}\" right=\"{x_max}\" top=\"{y_min}\" /> \n",
    "    <connection feed=\"true\" port=\"Feed1_stage{feed_stage}\" type=\"material\">{inlet_stream_number}</connection>\n",
    "    <connection feed=\"false\" port=\"TopProduct\" type=\"material\">{tops_stream_number}</connection>\n",
    "    <connection feed=\"false\" port=\"BottomProduct\" type=\"material\">{bottoms_stream_number}</connection>\n",
    "  </unitOperation>\n",
    "\"\"\"\n",
    "\n",
    "\n",
    "bottom_stream_string = fr\"\"\"\n",
    "\t<stream name=\"{bottoms_stream_number}\">\n",
    "\t<start x=\"{x_max}\" y=\"{y_max-2}\" />\n",
    "\t<end x=\"{x_max + 30}\" y=\"{y_max-2}\" />\n",
    "\t<labelCenter x=\"{x_max + 15}\" y=\"{y_max-2}\" />\n",
    "\t<boundingBox bottom=\"{y_max-2}\" left=\"{x_max}\" right=\"{x_max + 30}\" top=\"{y_max-2}\" />\n",
    "\t<routePoint x=\"{x_max}\" y=\"{y_max-2}\" />\n",
    "\t<routePoint x=\"{x_max + 30}\" y=\"{y_max-2}\" />\n",
    "\t<type>material</type>\n",
    "\t<materialType>default</materialType>\n",
    "\t<phase name=\"Overall\">\n",
    "\t  <moleFraction>N/A;N/A;N/A</moleFraction>\n",
    "\t  <massFraction>N/A;N/A;N/A</massFraction>\n",
    "\t</phase>\n",
    "\t</stream>\n",
    "\t\"\"\"\n",
    "\t\n",
    "top_stream_string = fr\"\"\"\n",
    "\t<stream name=\"{tops_stream_number}\">\n",
    "\t<start x=\"{x_max}\" y=\"{y_min+2}\" />\n",
    "\t<end x=\"{x_max + 30}\" y=\"{y_min+2}\" />\n",
    "\t<labelCenter x=\"{x_max + 15}\" y=\"{y_min+2}\" />\n",
    "\t<boundingBox bottom=\"{y_min+2}\" left=\"{x_max}\" right=\"{x_max + 30}\" top=\"{y_min+2}\" />\n",
    "\t<routePoint x=\"{x_max}\" y=\"{y_min+2}\" />\n",
    "\t<routePoint x=\"{x_max + 30}\" y=\"{y_min+2}\" />\n",
    "\t<type>material</type>\n",
    "\t<materialType>default</materialType>\n",
    "\t<phase name=\"Overall\">\n",
    "\t  <moleFraction>N/A;N/A;N/A</moleFraction>\n",
    "\t  <massFraction>N/A;N/A;N/A</massFraction>\n",
    "\t</phase>\n",
    "\t</stream>\n",
    "\t\"\"\""
   ]
  },
  {
   "cell_type": "code",
   "execution_count": null,
   "metadata": {},
   "outputs": [],
   "source": []
  }
 ],
 "metadata": {
  "kernelspec": {
   "display_name": "Python 3",
   "language": "python",
   "name": "python3"
  },
  "language_info": {
   "codemirror_mode": {
    "name": "ipython",
    "version": 3
   },
   "file_extension": ".py",
   "mimetype": "text/x-python",
   "name": "python",
   "nbconvert_exporter": "python",
   "pygments_lexer": "ipython3",
   "version": "3.7.6"
  }
 },
 "nbformat": 4,
 "nbformat_minor": 4
}
