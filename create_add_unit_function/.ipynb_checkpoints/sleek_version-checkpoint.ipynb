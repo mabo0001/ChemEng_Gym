{
 "cells": [
  {
   "cell_type": "code",
   "execution_count": 18,
   "metadata": {
    "scrolled": true
   },
   "outputs": [
    {
     "data": {
      "text/plain": [
       "['.ipynb_checkpoints',\n",
       " 'Add unit.ipynb',\n",
       " 'blank.xml',\n",
       " 'Flowsheet.xml',\n",
       " 'old',\n",
       " 'run_flowsheet.fsd',\n",
       " 'sleek_version.ipynb',\n",
       " 'test.fsd',\n",
       " 'Tester',\n",
       " 'unit_maker.py',\n",
       " '__pycache__']"
      ]
     },
     "execution_count": 18,
     "metadata": {},
     "output_type": "execute_result"
    }
   ],
   "source": [
    "import zipfile\n",
    "import os\n",
    "import sys\n",
    "import xml.etree.ElementTree as ET\n",
    "import subprocess\n",
    "import copy\n",
    "from unit_maker import UnitMaker\n",
    "import numpy as np\n",
    "os.listdir()"
   ]
  },
  {
   "cell_type": "markdown",
   "metadata": {},
   "source": [
    "## Configure initial file"
   ]
  },
  {
   "cell_type": "code",
   "execution_count": 19,
   "metadata": {
    "scrolled": true
   },
   "outputs": [],
   "source": [
    "etree=ET.parse('blank.xml')\n",
    "root = etree.getroot()\n",
    "etree.write('Flowsheet.xml')\n",
    "with zipfile.ZipFile('run_flowsheet.fsd', 'w') as myzip:\n",
    "    myzip.write('Flowsheet.xml')"
   ]
  },
  {
   "cell_type": "code",
   "execution_count": 25,
   "metadata": {},
   "outputs": [],
   "source": [
    "\"\"\"\n",
    "# Sometimes need this to quickly unzip to raw flosheet\n",
    "zip_ref = zipfile.ZipFile(\"run_flowsheet.fsd\", 'r')\n",
    "zip_ref.extractall()\n",
    "zip_ref.close()\n",
    "\"\"\"\n",
    "zip_ref = zipfile.ZipFile(\"run_flowsheet.fsd\", 'r')\n",
    "zip_ref.extractall()\n",
    "zip_ref.close()"
   ]
  },
  {
   "cell_type": "markdown",
   "metadata": {},
   "source": [
    "# Turn into a function"
   ]
  },
  {
   "cell_type": "code",
   "execution_count": 20,
   "metadata": {},
   "outputs": [],
   "source": [
    "def add_column(stream_number, filename=\"run_flowsheet.fsd\", **kwargs):\n",
    "    zip_ref = zipfile.ZipFile(filename, 'r')\n",
    "    zip_ref.extractall()\n",
    "    zip_ref.close()\n",
    "    # get etree\n",
    "    etree=ET.parse(\"Flowsheet.xml\")\n",
    "    root = etree.getroot()\n",
    "    \n",
    "    # get inlet stream and relevant info\n",
    "    stream = root.find(f\"\"\"stream[@name=\"{stream_number}\"]\"\"\")\n",
    "    end_coordinates = (int(stream.find(\"end\").attrib[\"x\"]), \n",
    "                       int(stream.find(\"end\").attrib[\"y\"]))\n",
    "    Temperature = float(stream.find(\"temperature\").text)\n",
    "    Pressure = float(stream.find(\"pressure\").text)\n",
    "    total_flow = float(stream.find(\"molarFlow\").text)/1000 # make in kmol/hr\n",
    "    component_flow = [float(x)*total_flow for x in \n",
    "                    stream.find('phase[@name=\"Overall\"]/moleFraction').text.split(\";\")]\n",
    "    vapour_fraction = float(stream.find('phase[@name=\"Vapor\"]/molarPhaseFraction').text)\n",
    "    inlet_stream_info = {\"number\":stream_number,\n",
    "                     \"Temperature\": Temperature,\n",
    "                     \"Pressure\": Pressure,\n",
    "                     \"vapour_fraction\": vapour_fraction,\n",
    "                     \"component_flow\" : component_flow,\n",
    "                     \"end_coordinates\": end_coordinates,\n",
    "                    }\n",
    "    column = UnitMaker(inlet_stream_info, **kwargs)\n",
    "    ChemSep_element = ET.fromstring(column.unit_string)\n",
    "    tops_stream_element = ET.fromstring(column.top_stream_string)\n",
    "    bottoms_stream_element = ET.fromstring(column.bottom_stream_string)\n",
    "    \n",
    "    root.append(tops_stream_element)\n",
    "    root.append(bottoms_stream_element)\n",
    "    root.append(ChemSep_element)\n",
    "    \n",
    "    etree.write('Flowsheet.xml')\n",
    "    with zipfile.ZipFile('run_flowsheet.fsd', 'w') as myzip:\n",
    "        myzip.write('Flowsheet.xml')\n",
    "    return subprocess.run(\"Cofestand64 run_flowsheet.fsd\", shell=True)\n",
    "    "
   ]
  },
  {
   "cell_type": "code",
   "execution_count": 21,
   "metadata": {},
   "outputs": [
    {
     "data": {
      "text/plain": [
       "CompletedProcess(args='Cofestand64 run_flowsheet.fsd', returncode=0)"
      ]
     },
     "execution_count": 21,
     "metadata": {},
     "output_type": "execute_result"
    }
   ],
   "source": [
    "add_column(1, column_number=1)"
   ]
  },
  {
   "cell_type": "code",
   "execution_count": 22,
   "metadata": {},
   "outputs": [
    {
     "data": {
      "text/plain": [
       "CompletedProcess(args='Cofestand64 run_flowsheet.fsd', returncode=0)"
      ]
     },
     "execution_count": 22,
     "metadata": {},
     "output_type": "execute_result"
    }
   ],
   "source": [
    "add_column(211, column_number=2, n_stages = 27)"
   ]
  },
  {
   "cell_type": "code",
   "execution_count": 23,
   "metadata": {},
   "outputs": [
    {
     "data": {
      "text/plain": [
       "CompletedProcess(args='Cofestand64 run_flowsheet.fsd', returncode=0)"
      ]
     },
     "execution_count": 23,
     "metadata": {},
     "output_type": "execute_result"
    }
   ],
   "source": [
    "add_column(212, column_number=3, pressure_increase = 101325)"
   ]
  },
  {
   "cell_type": "code",
   "execution_count": 24,
   "metadata": {
    "scrolled": true
   },
   "outputs": [
    {
     "data": {
      "text/plain": [
       "CompletedProcess(args='Cofestand64 run_flowsheet.fsd', returncode=0)"
      ]
     },
     "execution_count": 24,
     "metadata": {},
     "output_type": "execute_result"
    }
   ],
   "source": [
    "add_column(321, column_number=4)"
   ]
  },
  {
   "cell_type": "markdown",
   "metadata": {},
   "source": [
    "# Inspect outputs"
   ]
  },
  {
   "cell_type": "code",
   "execution_count": 5,
   "metadata": {},
   "outputs": [
    {
     "data": {
      "text/plain": [
       "'N/A;N/A;N/A'"
      ]
     },
     "execution_count": 5,
     "metadata": {},
     "output_type": "execute_result"
    }
   ],
   "source": [
    "TAC"
   ]
  },
  {
   "cell_type": "markdown",
   "metadata": {},
   "source": [
    "## Make Changes to final file"
   ]
  },
  {
   "cell_type": "code",
   "execution_count": 8,
   "metadata": {},
   "outputs": [],
   "source": [
    "zip_ref = zipfile.ZipFile('run_flowsheet.fsd', 'r')\n",
    "zip_ref.extractall()\n",
    "zip_ref.close()"
   ]
  },
  {
   "cell_type": "code",
   "execution_count": null,
   "metadata": {},
   "outputs": [],
   "source": []
  },
  {
   "cell_type": "markdown",
   "metadata": {},
   "source": [
    "## Timed Function\n",
    "\n",
    "All of the time taken by COFESTand - moving things around is very quick"
   ]
  },
  {
   "cell_type": "code",
   "execution_count": 1,
   "metadata": {},
   "outputs": [],
   "source": [
    "import time\n",
    "def add_column(stream_number, filename=\"run_flowsheet.fsd\", **kwargs):\n",
    "    start = time.time()\n",
    "    zip_ref = zipfile.ZipFile(filename, 'r')\n",
    "    zip_ref.extractall()\n",
    "    zip_ref.close()\n",
    "    # get etree\n",
    "    etree=ET.parse(\"Flowsheet.xml\")\n",
    "    root = etree.getroot()\n",
    "    \n",
    "    # get inlet stream and relevant info\n",
    "    stream = root.find(f\"\"\"stream[@name=\"{stream_number}\"]\"\"\")\n",
    "    end_coordinates = (int(stream.find(\"end\").attrib[\"x\"]), \n",
    "                       int(stream.find(\"end\").attrib[\"y\"]))\n",
    "    Temperature = float(stream.find(\"temperature\").text)\n",
    "    Pressure = float(stream.find(\"pressure\").text)\n",
    "    total_flow = float(stream.find(\"molarFlow\").text)/1000 # make in kmol/hr\n",
    "    component_flow = [float(x)*total_flow for x in \n",
    "                    stream.find('phase[@name=\"Overall\"]/moleFraction').text.split(\";\")]\n",
    "    vapour_fraction = float(stream.find('phase[@name=\"Vapor\"]/molarPhaseFraction').text)\n",
    "    inlet_stream_info = {\"number\":stream_number,\n",
    "                     \"Temperature\": Temperature,\n",
    "                     \"Pressure\": Pressure,\n",
    "                     \"vapour_fraction\": vapour_fraction,\n",
    "                     \"component_flow\" : component_flow,\n",
    "                     \"end_coordinates\": end_coordinates,\n",
    "                    }\n",
    "    column = UnitMaker(inlet_stream_info, **kwargs)\n",
    "    ChemSep_element = ET.fromstring(column.unit_string)\n",
    "    tops_stream_element = ET.fromstring(column.top_stream_string)\n",
    "    bottoms_stream_element = ET.fromstring(column.bottom_stream_string)\n",
    "    \n",
    "    root.append(tops_stream_element)\n",
    "    root.append(bottoms_stream_element)\n",
    "    root.append(ChemSep_element)\n",
    "    \n",
    "    etree.write('Flowsheet.xml')\n",
    "    middle = time.time()\n",
    "    with zipfile.ZipFile('run_flowsheet.fsd', 'w') as myzip:\n",
    "        myzip.write('Flowsheet.xml')\n",
    "    subprocess.run(\"Cofestand64 run_flowsheet.fsd\", shell=True)\n",
    "    end = time.time()\n",
    "    return start, middle, end"
   ]
  },
  {
   "cell_type": "code",
   "execution_count": 4,
   "metadata": {},
   "outputs": [],
   "source": [
    "start, middle, end = add_column(1, column_number=1)"
   ]
  },
  {
   "cell_type": "code",
   "execution_count": 6,
   "metadata": {},
   "outputs": [
    {
     "data": {
      "text/plain": [
       "0.020942211151123047"
      ]
     },
     "execution_count": 6,
     "metadata": {},
     "output_type": "execute_result"
    }
   ],
   "source": [
    "middle - start"
   ]
  },
  {
   "cell_type": "code",
   "execution_count": 7,
   "metadata": {},
   "outputs": [
    {
     "data": {
      "text/plain": [
       "3.233290433883667"
      ]
     },
     "execution_count": 7,
     "metadata": {},
     "output_type": "execute_result"
    }
   ],
   "source": [
    "end - middle"
   ]
  },
  {
   "cell_type": "code",
   "execution_count": 8,
   "metadata": {},
   "outputs": [],
   "source": [
    "start, middle, end = add_column(211, column_number=2, n_stages = 27)"
   ]
  },
  {
   "cell_type": "code",
   "execution_count": 9,
   "metadata": {},
   "outputs": [
    {
     "data": {
      "text/plain": [
       "0.02297210693359375"
      ]
     },
     "execution_count": 9,
     "metadata": {},
     "output_type": "execute_result"
    }
   ],
   "source": [
    "middle - start"
   ]
  },
  {
   "cell_type": "code",
   "execution_count": 10,
   "metadata": {},
   "outputs": [
    {
     "data": {
      "text/plain": [
       "4.03505277633667"
      ]
     },
     "execution_count": 10,
     "metadata": {},
     "output_type": "execute_result"
    }
   ],
   "source": [
    "end - middle"
   ]
  }
 ],
 "metadata": {
  "kernelspec": {
   "display_name": "Python 3",
   "language": "python",
   "name": "python3"
  },
  "language_info": {
   "codemirror_mode": {
    "name": "ipython",
    "version": 3
   },
   "file_extension": ".py",
   "mimetype": "text/x-python",
   "name": "python",
   "nbconvert_exporter": "python",
   "pygments_lexer": "ipython3",
   "version": "3.7.3"
  }
 },
 "nbformat": 4,
 "nbformat_minor": 4
}
