{
 "cells": [
  {
   "cell_type": "code",
   "execution_count": 2,
   "metadata": {},
   "outputs": [],
   "source": [
    "import comtypes.client\n",
    "import comtypes.gen\n",
    "from comtypes import COMError\n",
    "from comtypes.automation import VARIANT\n",
    "import array\n",
    "import os\n",
    "#os.listdir()"
   ]
  },
  {
   "cell_type": "code",
   "execution_count": 3,
   "metadata": {},
   "outputs": [],
   "source": [
    "# tell comtypes to load type libs\n",
    "cofeTlb = ('{0D1006C7-6086-4838-89FC-FBDCC0E98780}', 1, 0)  # COFE type lib\n",
    "cofeTypes = comtypes.client.GetModule(cofeTlb)\n",
    "coTlb = ('{4A5E2E81-C093-11D4-9F1B-0010A4D198C2}', 1, 1)  # CAPE-OPEN v1.1 type lib\n",
    "coTypes = comtypes.client.GetModule(coTlb)\n",
    "\n",
    "doc = comtypes.client.CreateObject('COCO_COFE.Document', interface=cofeTypes.ICOFEDocument)\n",
    "doc.Import('ChemSepExample.fsd')"
   ]
  },
  {
   "cell_type": "code",
   "execution_count": 4,
   "metadata": {},
   "outputs": [
    {
     "data": {
      "text/plain": [
       "('Column_1', 'Valve_1')"
      ]
     },
     "execution_count": 4,
     "metadata": {},
     "output_type": "execute_result"
    }
   ],
   "source": [
    "doc.GetUnitNames()"
   ]
  },
  {
   "cell_type": "markdown",
   "metadata": {},
   "source": [
    "# Valve Investigation"
   ]
  },
  {
   "cell_type": "code",
   "execution_count": 16,
   "metadata": {},
   "outputs": [
    {
     "name": "stdout",
     "output_type": "stream",
     "text": [
      "Pressure spec.\n",
      "Pressure difference\n",
      "Pressure\n",
      "Thermo Version\n"
     ]
    }
   ],
   "source": [
    "count = doc.GetUnit('Valve_1').QueryInterface(coTypes.ICapeUtilities). \\\n",
    "    Parameters.QueryInterface(coTypes.ICapeCollection).Count()\n",
    "for i in range(1, count+1):\n",
    "    print(doc.GetUnit('Valve_1').QueryInterface(coTypes.ICapeUtilities).Parameters. \\\n",
    "    QueryInterface(coTypes.ICapeCollection).Item(i).QueryInterface(coTypes.ICapeParameter). \\\n",
    "    QueryInterface(coTypes.ICapeIdentification).ComponentName)"
   ]
  },
  {
   "cell_type": "code",
   "execution_count": 17,
   "metadata": {},
   "outputs": [
    {
     "data": {
      "text/plain": [
       "0.0"
      ]
     },
     "execution_count": 17,
     "metadata": {},
     "output_type": "execute_result"
    }
   ],
   "source": [
    "doc.GetUnit('Valve_1').QueryInterface(coTypes.ICapeUtilities).Parameters.QueryInterface(coTypes.ICapeCollection).Item(\n",
    "            \"Pressure difference\").QueryInterface(coTypes.ICapeParameter).value"
   ]
  },
  {
   "cell_type": "code",
   "execution_count": 18,
   "metadata": {},
   "outputs": [
    {
     "data": {
      "text/plain": [
       "1763055.0"
      ]
     },
     "execution_count": 18,
     "metadata": {},
     "output_type": "execute_result"
    }
   ],
   "source": [
    "doc.GetUnit('Valve_1').QueryInterface(coTypes.ICapeUtilities).Parameters.QueryInterface(coTypes.ICapeCollection).Item(\n",
    "            \"Pressure\").QueryInterface(coTypes.ICapeParameter).value"
   ]
  },
  {
   "cell_type": "code",
   "execution_count": 28,
   "metadata": {},
   "outputs": [
    {
     "data": {
      "text/plain": [
       "1763055.0"
      ]
     },
     "execution_count": 28,
     "metadata": {},
     "output_type": "execute_result"
    }
   ],
   "source": [
    "doc.GetStream('1').QueryInterface(coTypes.ICapeThermoMaterial).GetOverallProp(\"pressure\", \"\")[0]"
   ]
  },
  {
   "cell_type": "markdown",
   "metadata": {},
   "source": [
    "# Set Column Pressure"
   ]
  },
  {
   "cell_type": "code",
   "execution_count": 5,
   "metadata": {},
   "outputs": [
    {
     "name": "stdout",
     "output_type": "stream",
     "text": [
      "GUIArguments\n",
      "UseCOSEThermo\n",
      "UseCOSEDiffusionCoefficients\n",
      "UsePerturbedDerivativesOnly\n",
      "UsePerturbed_ddX\n",
      "SuppressWarnings\n",
      "RelativePerturbationTemperature\n",
      "RelativePerturbationPressure\n",
      "PerturbationComposition\n",
      "OutletFlash\n",
      "UseOnlyKValuesAndEnthalpyFromCOSE\n",
      "RestartDataAvailable\n",
      "OmitStageFromPortName\n",
      "WilsonEstimate\n",
      "LogPropertyCalls\n",
      "EnergyPorts\n",
      "Allowed temperature difference\n",
      "Number of stages\n",
      "Reflux ratio\n",
      "Reboil ratio\n",
      "Condenser pressure\n",
      "Top pressure\n",
      "Total Annual Cost\n",
      "Condenser duty\n",
      "Reboiler duty\n",
      "Temperature profile\n",
      "Pressure profile\n",
      "Vapour Flow profile\n",
      "Liquid Flow profile\n",
      "Duties profile\n",
      "Vapour Moleweight profile\n",
      "Vapour Density profile\n",
      "Vapour Viscosity profile\n",
      "Vapour Heat capacity profile\n",
      "Vapour Th. Conduct. profile\n",
      "Vapour Std density profile\n",
      "Liquid Moleweight profile\n",
      "Liquid Density profile\n",
      "Liquid Viscosity profile\n",
      "Liquid Heat capacity profile\n",
      "Liquid Th. Conduct. profile\n",
      "Liquid Surf. tension profile\n",
      "Liquid Std Density profile\n"
     ]
    }
   ],
   "source": [
    "count = doc.GetUnit(\"Column_1\").QueryInterface(coTypes.ICapeUtilities). \\\n",
    "    Parameters.QueryInterface(coTypes.ICapeCollection).Count()\n",
    "for i in range(1, count+1):\n",
    "    print(doc.GetUnit(\"Column_1\").QueryInterface(coTypes.ICapeUtilities).Parameters. \\\n",
    "    QueryInterface(coTypes.ICapeCollection).Item(i).QueryInterface(coTypes.ICapeParameter). \\\n",
    "    QueryInterface(coTypes.ICapeIdentification).ComponentName)"
   ]
  },
  {
   "cell_type": "code",
   "execution_count": 6,
   "metadata": {},
   "outputs": [
    {
     "data": {
      "text/plain": [
       "1722525.0"
      ]
     },
     "execution_count": 6,
     "metadata": {},
     "output_type": "execute_result"
    }
   ],
   "source": [
    "doc.GetUnit('Column_1').QueryInterface(coTypes.ICapeUtilities).Parameters.QueryInterface(coTypes.ICapeCollection).Item(\n",
    "            \"Condenser pressure\").QueryInterface(coTypes.ICapeParameter).value"
   ]
  },
  {
   "cell_type": "code",
   "execution_count": null,
   "metadata": {},
   "outputs": [],
   "source": []
  }
 ],
 "metadata": {
  "kernelspec": {
   "display_name": "Python 3",
   "language": "python",
   "name": "python3"
  },
  "language_info": {
   "codemirror_mode": {
    "name": "ipython",
    "version": 3
   },
   "file_extension": ".py",
   "mimetype": "text/x-python",
   "name": "python",
   "nbconvert_exporter": "python",
   "pygments_lexer": "ipython3",
   "version": "3.7.7"
  }
 },
 "nbformat": 4,
 "nbformat_minor": 4
}
